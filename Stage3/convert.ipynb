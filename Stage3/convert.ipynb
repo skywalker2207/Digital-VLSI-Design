{
 "cells": [
  {
   "cell_type": "code",
   "execution_count": 16,
   "metadata": {},
   "outputs": [],
   "source": [
    "import csv\n",
    "\n",
    "def convert_txt_to_csv(txt_filename, csv_filename):\n",
    "    with open(txt_filename, 'r') as txt_file:\n",
    "        # Read the lines of the text file\n",
    "        lines = txt_file.readlines()\n",
    "\n",
    "        # Extract the header and remove leading/trailing whitespace\n",
    "        header = lines[0].strip().split()\n",
    "        num_columns = len(header)\n",
    "\n",
    "        # Initialize a list to store lists of column values\n",
    "        columns = [[] for _ in range(num_columns)]\n",
    "\n",
    "        # Extract the data from each line\n",
    "        for line in lines[1:]:\n",
    "            values = line.strip().split()\n",
    "            for i, value in enumerate(values):\n",
    "                if i < num_columns:  # Check if index is within range\n",
    "                    columns[i].append(value)\n",
    "\n",
    "        # Write the data into the CSV file\n",
    "        with open(csv_filename, 'w', newline='') as csv_file:\n",
    "            writer = csv.writer(csv_file)\n",
    "\n",
    "            # Write the header\n",
    "            writer.writerow(header)\n",
    "\n",
    "            # Transpose the columns and write the data\n",
    "            for row in zip(*columns):\n",
    "                writer.writerow(row)\n",
    "\n",
    "# Example usage\n",
    "txt_filename = 'output_poff.txt'  # Replace this with the actual filename of the text file\n",
    "csv_filename = 'output_poff.csv'  # Replace this with the desired filename for the CSV file\n",
    "convert_txt_to_csv(txt_filename, csv_filename)\n"
   ]
  }
 ],
 "metadata": {
  "kernelspec": {
   "display_name": "Python 3",
   "language": "python",
   "name": "python3"
  },
  "language_info": {
   "codemirror_mode": {
    "name": "ipython",
    "version": 3
   },
   "file_extension": ".py",
   "mimetype": "text/x-python",
   "name": "python",
   "nbconvert_exporter": "python",
   "pygments_lexer": "ipython3",
   "version": "3.10.12"
  }
 },
 "nbformat": 4,
 "nbformat_minor": 2
}
